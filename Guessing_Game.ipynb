{
  "nbformat": 4,
  "nbformat_minor": 0,
  "metadata": {
    "colab": {
      "name": "Guessing Game.ipynb",
      "provenance": [],
      "authorship_tag": "ABX9TyMDCnbHsq/uIQ8Aylsn5psH",
      "include_colab_link": true
    },
    "kernelspec": {
      "name": "python3",
      "display_name": "Python 3"
    },
    "language_info": {
      "name": "python"
    }
  },
  "cells": [
    {
      "cell_type": "markdown",
      "metadata": {
        "id": "view-in-github",
        "colab_type": "text"
      },
      "source": [
        "<a href=\"https://colab.research.google.com/github/Brandonscoding/Python_camp/blob/main/Guessing_Game.ipynb\" target=\"_parent\"><img src=\"https://colab.research.google.com/assets/colab-badge.svg\" alt=\"Open In Colab\"/></a>"
      ]
    },
    {
      "cell_type": "code",
      "metadata": {
        "id": "ehk8RzFxs6cr"
      },
      "source": [
        "from random import randint\n",
        "low = 0\n",
        "high = 100\n",
        "correct = randint(low, high)\n",
        "print(f'Guess a number between {low} and {high}.')\n",
        "\n",
        "while True:\n",
        "  guess = int(input())\n",
        " \n",
        "  if guess < correct:\n",
        "    print(\"Guess Higher\")\n",
        "  elif guess > correct:\n",
        "      print(\"Guess Lower\")\n",
        "  else:\n",
        "    print(\"You Win!\")\n",
        "    break"
      ],
      "execution_count": null,
      "outputs": []
    }
  ]
}